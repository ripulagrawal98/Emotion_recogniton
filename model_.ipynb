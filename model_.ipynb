{
  "nbformat": 4,
  "nbformat_minor": 0,
  "metadata": {
    "colab": {
      "name": "model_.ipynb",
      "version": "0.3.2",
      "provenance": []
    },
    "language_info": {
      "codemirror_mode": {
        "name": "ipython",
        "version": 3
      },
      "file_extension": ".py",
      "mimetype": "text/x-python",
      "name": "python",
      "nbconvert_exporter": "python",
      "pygments_lexer": "ipython3",
      "version": "3.6.8"
    },
    "kernelspec": {
      "name": "python3",
      "display_name": "Python 3"
    },
    "accelerator": "GPU"
  },
  "cells": [
    {
      "metadata": {
        "id": "830CkgLgV0z5",
        "colab_type": "code",
        "colab": {
          "base_uri": "https://localhost:8080/",
          "height": 121
        },
        "outputId": "1039c4e9-6199-4556-9c15-292642e48146"
      },
      "cell_type": "code",
      "source": [
        " # Google Colab Setup\n",
        "from google.colab import drive\n",
        "\n",
        "# This will prompt for authorization.\n",
        "drive.mount('/content/drive')"
      ],
      "execution_count": 2,
      "outputs": [
        {
          "output_type": "stream",
          "text": [
            "Go to this URL in a browser: https://accounts.google.com/o/oauth2/auth?client_id=947318989803-6bn6qk8qdgf4n4g3pfee6491hc0brc4i.apps.googleusercontent.com&redirect_uri=urn%3Aietf%3Awg%3Aoauth%3A2.0%3Aoob&scope=email%20https%3A%2F%2Fwww.googleapis.com%2Fauth%2Fdocs.test%20https%3A%2F%2Fwww.googleapis.com%2Fauth%2Fdrive%20https%3A%2F%2Fwww.googleapis.com%2Fauth%2Fdrive.photos.readonly%20https%3A%2F%2Fwww.googleapis.com%2Fauth%2Fpeopleapi.readonly&response_type=code\n",
            "\n",
            "Enter your authorization code:\n",
            "··········\n",
            "Mounted at /content/drive\n"
          ],
          "name": "stdout"
        }
      ]
    },
    {
      "metadata": {
        "id": "HFKThVXsV050",
        "colab_type": "code",
        "colab": {}
      },
      "cell_type": "code",
      "source": [
        "import os"
      ],
      "execution_count": 0,
      "outputs": []
    },
    {
      "metadata": {
        "id": "XCRbHr4NV0_F",
        "colab_type": "code",
        "colab": {}
      },
      "cell_type": "code",
      "source": [
        "os.chdir('/content/drive/My Drive/robofied_/emotion_face/')"
      ],
      "execution_count": 0,
      "outputs": []
    },
    {
      "metadata": {
        "id": "_W10B7zpVNyG",
        "colab_type": "code",
        "colab": {}
      },
      "cell_type": "code",
      "source": [
        "import numpy as np\n",
        "# import os"
      ],
      "execution_count": 0,
      "outputs": []
    },
    {
      "metadata": {
        "id": "nF2lMfM_VNyP",
        "colab_type": "code",
        "colab": {}
      },
      "cell_type": "code",
      "source": [
        "import warnings"
      ],
      "execution_count": 0,
      "outputs": []
    },
    {
      "metadata": {
        "id": "KFMk9FccXFiL",
        "colab_type": "code",
        "colab": {}
      },
      "cell_type": "code",
      "source": [
        "import keras"
      ],
      "execution_count": 0,
      "outputs": []
    },
    {
      "metadata": {
        "id": "2IEdAuJmVNyV",
        "colab_type": "code",
        "colab": {}
      },
      "cell_type": "code",
      "source": [
        "from sklearn.model_selection import train_test_split"
      ],
      "execution_count": 0,
      "outputs": []
    },
    {
      "metadata": {
        "id": "tCK9kCsbVNyZ",
        "colab_type": "code",
        "colab": {}
      },
      "cell_type": "code",
      "source": [
        "import keras.backend as K"
      ],
      "execution_count": 0,
      "outputs": []
    },
    {
      "metadata": {
        "id": "VlijSqCuVNyi",
        "colab_type": "code",
        "colab": {}
      },
      "cell_type": "code",
      "source": [
        "from keras import layers\n",
        "from keras import optimizers\n",
        "from keras.models import Sequential\n",
        "from keras import losses"
      ],
      "execution_count": 0,
      "outputs": []
    },
    {
      "metadata": {
        "id": "J5i-6RbNVNym",
        "colab_type": "code",
        "colab": {}
      },
      "cell_type": "code",
      "source": [
        "# load the input feature matrix into'input_daata' i.e. images from harddisk and emotion labels into 'labels'\n",
        "input_data = np.load('/content/drive/My Drive/robofied_/emotion_face/input.npy')\n",
        "\n"
      ],
      "execution_count": 0,
      "outputs": []
    },
    {
      "metadata": {
        "id": "DGKdX9rHWzfM",
        "colab_type": "code",
        "colab": {}
      },
      "cell_type": "code",
      "source": [
        "input_label = np.load('/content/drive/My Drive/robofied_/emotion_face/output_labels.npy') "
      ],
      "execution_count": 0,
      "outputs": []
    },
    {
      "metadata": {
        "id": "nvtBoLZEXJdq",
        "colab_type": "code",
        "colab": {
          "base_uri": "https://localhost:8080/",
          "height": 34
        },
        "outputId": "6e00674a-7166-4693-fa14-7b8f404d58a8"
      },
      "cell_type": "code",
      "source": [
        "input_label.shape"
      ],
      "execution_count": 27,
      "outputs": [
        {
          "output_type": "execute_result",
          "data": {
            "text/plain": [
              "(60963,)"
            ]
          },
          "metadata": {
            "tags": []
          },
          "execution_count": 27
        }
      ]
    },
    {
      "metadata": {
        "id": "S9025ysvVNyr",
        "colab_type": "code",
        "colab": {
          "base_uri": "https://localhost:8080/",
          "height": 34
        },
        "outputId": "e83efdf5-8756-436d-a36b-0d85cb197353"
      },
      "cell_type": "code",
      "source": [
        "print('No of total examples:', input_data.shape[0])\n",
        "assert(input_data.shape[0] ==input_label.shape[0])"
      ],
      "execution_count": 28,
      "outputs": [
        {
          "output_type": "stream",
          "text": [
            "No of total examples: 60963\n"
          ],
          "name": "stdout"
        }
      ]
    },
    {
      "metadata": {
        "id": "VFj3muAdVNyv",
        "colab_type": "code",
        "colab": {}
      },
      "cell_type": "code",
      "source": [
        "x_train, x_test, y_train, y_test = train_test_split(input_data, input_label,\n",
        "                                                    test_size = 0.02, random_state = 304)"
      ],
      "execution_count": 0,
      "outputs": []
    },
    {
      "metadata": {
        "id": "dJyOJj1LVNyx",
        "colab_type": "code",
        "colab": {
          "base_uri": "https://localhost:8080/",
          "height": 50
        },
        "outputId": "c2885dca-bcad-4084-dacb-4d3e46817690"
      },
      "cell_type": "code",
      "source": [
        "print(\"No of training examples:\", x_train.shape[0])\n",
        "print(\"No of test examples:\", x_test.shape[0])\n"
      ],
      "execution_count": 30,
      "outputs": [
        {
          "output_type": "stream",
          "text": [
            "No of training examples: 59743\n",
            "No of test examples: 1220\n"
          ],
          "name": "stdout"
        }
      ]
    },
    {
      "metadata": {
        "id": "_eZKJDNYVNyz",
        "colab_type": "code",
        "colab": {
          "base_uri": "https://localhost:8080/",
          "height": 34
        },
        "outputId": "1532b66b-a761-4356-ae27-77a5c83d7930"
      },
      "cell_type": "code",
      "source": [
        "count_1 = 0\n",
        "count_2 = 0\n",
        "count_3 = 0\n",
        "count_4 = 0\n",
        "count_5 = 0\n",
        "count_0 = 0\n",
        "for i in range(len(x_test)):\n",
        "    if y_test[i] == 0:\n",
        "        count_0 += 1\n",
        "    elif y_test[i] == 1:\n",
        "        count_1 += 1\n",
        "    elif y_test[i] == 2:\n",
        "        count_2 += 1\n",
        "    elif y_test[i] == 3:\n",
        "        count_3 += 1\n",
        "    elif y_test[i] == 4:\n",
        "        count_4 += 1\n",
        "    elif y_test[i] == 5:\n",
        "        count_5 += 1\n",
        "print(count_1,\" \",count_2,\" \",count_3,\" \",count_4,\" \",count_5,\" \",count_0)"
      ],
      "execution_count": 31,
      "outputs": [
        {
          "output_type": "stream",
          "text": [
            "161   197   206   149   165   187\n"
          ],
          "name": "stdout"
        }
      ]
    },
    {
      "metadata": {
        "id": "Ot73lDdAVNy3",
        "colab_type": "code",
        "colab": {
          "base_uri": "https://localhost:8080/",
          "height": 34
        },
        "outputId": "1909f1b7-66d8-432c-9727-8fbbe583c0b5"
      },
      "cell_type": "code",
      "source": [
        "count_1 = 0\n",
        "count_2 = 0\n",
        "count_3 = 0\n",
        "count_4 = 0\n",
        "count_5 = 0\n",
        "count_0 = 0\n",
        "for i in range(len(x_train)):\n",
        "    if y_train[i] == 0:\n",
        "        count_0 += 1\n",
        "    elif y_train[i] == 1:\n",
        "        count_1 += 1\n",
        "    elif y_train[i] == 2:\n",
        "        count_2 += 1\n",
        "    elif y_train[i] == 3:\n",
        "        count_3 += 1\n",
        "    elif y_train[i] == 4:\n",
        "        count_4 += 1\n",
        "    elif y_train[i] == 5:\n",
        "        count_5 += 1\n",
        "print(count_1,\" \",count_2,\" \",count_3,\" \",count_4,\" \",count_5,\" \",count_0)"
      ],
      "execution_count": 32,
      "outputs": [
        {
          "output_type": "stream",
          "text": [
            "7386   10045   8783   7928   7839   9719\n"
          ],
          "name": "stdout"
        }
      ]
    },
    {
      "metadata": {
        "id": "ZiTLBbw1VNy6",
        "colab_type": "code",
        "colab": {
          "base_uri": "https://localhost:8080/",
          "height": 34
        },
        "outputId": "bce786a6-eb80-4f1a-efd9-1bf9a822be93"
      },
      "cell_type": "code",
      "source": [
        "x_train[0].shape\n",
        "# x_test.shape"
      ],
      "execution_count": 33,
      "outputs": [
        {
          "output_type": "execute_result",
          "data": {
            "text/plain": [
              "(48, 48, 4)"
            ]
          },
          "metadata": {
            "tags": []
          },
          "execution_count": 33
        }
      ]
    },
    {
      "metadata": {
        "id": "hGGHlohwVNy9",
        "colab_type": "code",
        "colab": {}
      },
      "cell_type": "code",
      "source": [
        "from keras.utils import to_categorical"
      ],
      "execution_count": 0,
      "outputs": []
    },
    {
      "metadata": {
        "id": "N4mZIlxbVNzA",
        "colab_type": "code",
        "colab": {}
      },
      "cell_type": "code",
      "source": [
        "# y_train = y_train.reshape(y_train.shape[0],)\n",
        "# y_test = y_test.reshape(y_test.shape[0],)"
      ],
      "execution_count": 0,
      "outputs": []
    },
    {
      "metadata": {
        "id": "PO9QPnsyVNzD",
        "colab_type": "code",
        "colab": {
          "base_uri": "https://localhost:8080/",
          "height": 34
        },
        "outputId": "3f98eb82-5ec6-4a27-a8c1-c0199ad718e8"
      },
      "cell_type": "code",
      "source": [
        "nb_classes = np.max(y_train)\n",
        "print(nb_classes)"
      ],
      "execution_count": 36,
      "outputs": [
        {
          "output_type": "stream",
          "text": [
            "6.0\n"
          ],
          "name": "stdout"
        }
      ]
    },
    {
      "metadata": {
        "id": "GUUaTgEqVNzH",
        "colab_type": "code",
        "colab": {}
      },
      "cell_type": "code",
      "source": [
        "y_train = to_categorical(y_train)\n",
        "y_test =  to_categorical(y_test)"
      ],
      "execution_count": 0,
      "outputs": []
    },
    {
      "metadata": {
        "id": "AueYdiqAVNzL",
        "colab_type": "code",
        "colab": {
          "base_uri": "https://localhost:8080/",
          "height": 34
        },
        "outputId": "1da23319-002b-478c-a0fc-5c2f33f21a23"
      },
      "cell_type": "code",
      "source": [
        "y_train.shape"
      ],
      "execution_count": 38,
      "outputs": [
        {
          "output_type": "execute_result",
          "data": {
            "text/plain": [
              "(59743, 7)"
            ]
          },
          "metadata": {
            "tags": []
          },
          "execution_count": 38
        }
      ]
    },
    {
      "metadata": {
        "id": "1iSFOLpLVNzP",
        "colab_type": "code",
        "colab": {
          "base_uri": "https://localhost:8080/",
          "height": 34
        },
        "outputId": "b155e0fc-3bd3-4d06-cdef-8b5cfef318ff"
      },
      "cell_type": "code",
      "source": [
        "input_shape = x_train[0].shape\n",
        "print(input_shape)"
      ],
      "execution_count": 39,
      "outputs": [
        {
          "output_type": "stream",
          "text": [
            "(48, 48, 4)\n"
          ],
          "name": "stdout"
        }
      ]
    },
    {
      "metadata": {
        "id": "HvfjZczVVNzU",
        "colab_type": "code",
        "colab": {}
      },
      "cell_type": "code",
      "source": [
        "model = Sequential()\n",
        "model.add(layers.Conv2D(32, kernel_size = (3,3), padding = 'same', input_shape = (48,48,4)))\n",
        "model.add(layers.BatchNormalization())\n",
        "model.add(layers.Activation('relu'))\n",
        "model.add(layers.Conv2D(32,kernel_size = (3,3),padding = 'same'))\n",
        "model.add(layers.BatchNormalization())\n",
        "model.add(layers.Activation('relu'))\n",
        "model.add(layers.MaxPooling2D(pool_size = (2,2)))\n",
        "model.add(layers.Dropout(0.25))\n",
        "\n",
        "model.add(layers.Conv2D(64, kernel_size = (3,3), padding = 'same'))\n",
        "model.add(layers.BatchNormalization())\n",
        "model.add(layers.Activation('relu'))\n",
        "model.add(layers.Conv2D(64,kernel_size = (3,3),padding = 'same'))\n",
        "model.add(layers.BatchNormalization())\n",
        "model.add(layers.Activation('relu'))\n",
        "model.add(layers.MaxPooling2D(pool_size = (2,2)))\n",
        "model.add(layers.Dropout(0.25))\n",
        "\n",
        "model.add(layers.Conv2D(128, kernel_size = (3,3), padding = 'same'))\n",
        "model.add(layers.BatchNormalization())\n",
        "model.add(layers.Activation('relu'))\n",
        "model.add(layers.Conv2D(128,kernel_size = (3,3),padding = 'same'))\n",
        "model.add(layers.BatchNormalization())\n",
        "model.add(layers.Activation('relu'))\n",
        "model.add(layers.MaxPooling2D(pool_size = (2,2)))\n",
        "model.add(layers.Dropout(0.25))\n",
        "\n",
        "model.add(layers.Conv2D(256, kernel_size = (3,3), padding = 'same'))\n",
        "model.add(layers.BatchNormalization())\n",
        "model.add(layers.Activation('relu'))\n",
        "model.add(layers.Conv2D(256,kernel_size = (3,3),padding = 'same'))\n",
        "model.add(layers.BatchNormalization())\n",
        "model.add(layers.Activation('relu'))\n",
        "model.add(layers.MaxPooling2D(pool_size = (2,2)))\n",
        "model.add(layers.Dropout(0.25))"
      ],
      "execution_count": 0,
      "outputs": []
    },
    {
      "metadata": {
        "id": "yjYTmLoAVNzZ",
        "colab_type": "code",
        "colab": {}
      },
      "cell_type": "code",
      "source": [
        "model.add(layers.Flatten())\n",
        "model.add(layers.Dense(256))\n",
        "model.add(layers.Dropout(0.25))\n",
        "model.add(layers.Activation('relu'))\n",
        "model.add(layers.Dense(7))\n",
        "# model.add(layers.Dropout(0.3))\n",
        "model.add(layers.Activation('softmax'))"
      ],
      "execution_count": 0,
      "outputs": []
    },
    {
      "metadata": {
        "id": "Ls3743KTVNzc",
        "colab_type": "code",
        "colab": {}
      },
      "cell_type": "code",
      "source": [
        "model.compile(loss=losses.categorical_crossentropy,\n",
        "              optimizer= optimizers.Adam(),\n",
        "              metrics=['accuracy'])"
      ],
      "execution_count": 0,
      "outputs": []
    },
    {
      "metadata": {
        "id": "FUsRIznHlM-K",
        "colab_type": "code",
        "colab": {}
      },
      "cell_type": "code",
      "source": [
        "reduce_lr = keras.callbacks.ReduceLROnPlateau(monitor='val_loss', factor=0.2,\n",
        "                                              patience=5, min_lr=0.001)\n"
      ],
      "execution_count": 0,
      "outputs": []
    },
    {
      "metadata": {
        "id": "_mzAcGChVNzk",
        "colab_type": "code",
        "colab": {
          "base_uri": "https://localhost:8080/",
          "height": 773
        },
        "outputId": "88cb4d7f-62f0-40f6-d02a-66ea595a9419"
      },
      "cell_type": "code",
      "source": [
        "hist = model.fit(x_train,y_train, epochs = 50, batch_size = 512, validation_data = (x_test,y_test), callbacks = [reduce_lr])"
      ],
      "execution_count": 0,
      "outputs": [
        {
          "output_type": "stream",
          "text": [
            "Train on 59743 samples, validate on 1220 samples\n",
            "Epoch 1/50\n",
            "59743/59743 [==============================] - 37s 626us/step - loss: 1.9289 - acc: 0.1767 - val_loss: 1.9192 - val_acc: 0.1984\n",
            "Epoch 2/50\n",
            "59743/59743 [==============================] - 37s 626us/step - loss: 1.8832 - acc: 0.2012 - val_loss: 1.8820 - val_acc: 0.2410\n",
            "Epoch 3/50\n",
            "59743/59743 [==============================] - 37s 626us/step - loss: 1.7894 - acc: 0.2556 - val_loss: 1.8585 - val_acc: 0.2459\n",
            "Epoch 4/50\n",
            "59743/59743 [==============================] - 37s 626us/step - loss: 1.6955 - acc: 0.3092 - val_loss: 1.7711 - val_acc: 0.2910\n",
            "Epoch 5/50\n",
            "59743/59743 [==============================] - 37s 626us/step - loss: 1.6095 - acc: 0.3516 - val_loss: 2.0060 - val_acc: 0.2516\n",
            "Epoch 6/50\n",
            "59743/59743 [==============================] - 37s 627us/step - loss: 1.5536 - acc: 0.3768 - val_loss: 2.1974 - val_acc: 0.1672\n",
            "Epoch 7/50\n",
            "59743/59743 [==============================] - 37s 626us/step - loss: 1.5104 - acc: 0.3946 - val_loss: 2.9145 - val_acc: 0.2025\n",
            "Epoch 8/50\n",
            "59743/59743 [==============================] - 38s 628us/step - loss: 1.4716 - acc: 0.4137 - val_loss: 1.6132 - val_acc: 0.3762\n",
            "Epoch 9/50\n",
            "59743/59743 [==============================] - 37s 626us/step - loss: 1.4288 - acc: 0.4322 - val_loss: 1.5284 - val_acc: 0.3967\n",
            "Epoch 10/50\n",
            "59743/59743 [==============================] - 38s 628us/step - loss: 1.3941 - acc: 0.4470 - val_loss: 1.4709 - val_acc: 0.4189\n",
            "Epoch 11/50\n",
            "59743/59743 [==============================] - 37s 627us/step - loss: 1.3620 - acc: 0.4615 - val_loss: 1.4384 - val_acc: 0.4336\n",
            "Epoch 12/50\n",
            "59743/59743 [==============================] - 38s 628us/step - loss: 1.3310 - acc: 0.4749 - val_loss: 1.3301 - val_acc: 0.4852\n",
            "Epoch 13/50\n",
            "59743/59743 [==============================] - 37s 627us/step - loss: 1.3059 - acc: 0.4857 - val_loss: 1.3778 - val_acc: 0.4770\n",
            "Epoch 14/50\n",
            "59743/59743 [==============================] - 37s 627us/step - loss: 1.2827 - acc: 0.4979 - val_loss: 1.3778 - val_acc: 0.4689\n",
            "Epoch 15/50\n",
            "59743/59743 [==============================] - 37s 627us/step - loss: 1.2569 - acc: 0.5087 - val_loss: 1.2454 - val_acc: 0.5262\n",
            "Epoch 16/50\n",
            "59743/59743 [==============================] - 37s 627us/step - loss: 1.2299 - acc: 0.5212 - val_loss: 1.2976 - val_acc: 0.5049\n",
            "Epoch 17/50\n",
            "59743/59743 [==============================] - 37s 625us/step - loss: 1.2110 - acc: 0.5269 - val_loss: 1.2920 - val_acc: 0.5189\n",
            "Epoch 18/50\n",
            "59743/59743 [==============================] - 37s 627us/step - loss: 1.1906 - acc: 0.5369 - val_loss: 1.2796 - val_acc: 0.5131\n",
            "Epoch 19/50\n",
            "59743/59743 [==============================] - 38s 628us/step - loss: 1.1752 - acc: 0.5439 - val_loss: 1.2453 - val_acc: 0.5287\n",
            "Epoch 20/50\n",
            "59743/59743 [==============================] - 37s 627us/step - loss: 1.1521 - acc: 0.5533 - val_loss: 1.2824 - val_acc: 0.5197\n",
            "Epoch 21/50\n",
            "59743/59743 [==============================] - 37s 627us/step - loss: 1.1360 - acc: 0.5597 - val_loss: 1.2885 - val_acc: 0.4943\n",
            "Epoch 22/50\n",
            " 9728/59743 [===>..........................] - ETA: 31s - loss: 1.0969 - acc: 0.5718"
          ],
          "name": "stdout"
        }
      ]
    },
    {
      "metadata": {
        "id": "mrexBTlsVNzq",
        "colab_type": "code",
        "colab": {
          "base_uri": "https://localhost:8080/",
          "height": 34
        },
        "outputId": "ccfc69a8-9b35-44be-b445-a90993b9b7ae"
      },
      "cell_type": "code",
      "source": [
        "testt = model.evaluate(x_test,y_test, batch_size = 256)"
      ],
      "execution_count": 95,
      "outputs": [
        {
          "output_type": "stream",
          "text": [
            "1220/1220 [==============================] - 0s 282us/step\n"
          ],
          "name": "stdout"
        }
      ]
    },
    {
      "metadata": {
        "id": "vrNkKm-8VNzv",
        "colab_type": "code",
        "colab": {
          "base_uri": "https://localhost:8080/",
          "height": 34
        },
        "outputId": "f2057cd3-1718-4da0-ac3d-3f50df73b6b3"
      },
      "cell_type": "code",
      "source": [
        "testt"
      ],
      "execution_count": 96,
      "outputs": [
        {
          "output_type": "execute_result",
          "data": {
            "text/plain": [
              "[1.2582450292149527, 0.5081967193572248]"
            ]
          },
          "metadata": {
            "tags": []
          },
          "execution_count": 96
        }
      ]
    },
    {
      "metadata": {
        "id": "dW2Hw836f58N",
        "colab_type": "code",
        "colab": {}
      },
      "cell_type": "code",
      "source": [
        ""
      ],
      "execution_count": 0,
      "outputs": []
    }
  ]
}
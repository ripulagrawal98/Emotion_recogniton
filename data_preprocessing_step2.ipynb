{
 "cells": [
  {
   "cell_type": "markdown",
   "metadata": {},
   "source": [
    "This notebook store the code to save all the images as numpy array "
   ]
  },
  {
   "cell_type": "markdown",
   "metadata": {},
   "source": [
    "### Pythono3 code to rename multiple  \n",
    "### files in a directory or folder"
   ]
  },
  {
   "cell_type": "code",
   "execution_count": 1,
   "metadata": {},
   "outputs": [],
   "source": [
    "import os   "
   ]
  },
  {
   "cell_type": "code",
   "execution_count": 2,
   "metadata": {},
   "outputs": [],
   "source": [
    "import numpy as np"
   ]
  },
  {
   "cell_type": "code",
   "execution_count": 3,
   "metadata": {},
   "outputs": [],
   "source": [
    "import matplotlib.pyplot as plt"
   ]
  },
  {
   "cell_type": "markdown",
   "metadata": {},
   "source": [
    "### rename all images created by data augmentation"
   ]
  },
  {
   "cell_type": "code",
   "execution_count": 4,
   "metadata": {},
   "outputs": [],
   "source": [
    " # Function to rename multiple files \n",
    "def main(path, a): \n",
    "    i = a-1 \n",
    "      \n",
    "    for filename in os.listdir(path): \n",
    "        dst =  str(i) + \".png\"\n",
    "        src = path + filename \n",
    "        dst = path + dst \n",
    "          \n",
    "        # rename() function will \n",
    "        # rename all the files \n",
    "        os.rename(src, dst) \n",
    "        i += 1\n"
   ]
  },
  {
   "cell_type": "code",
   "execution_count": 6,
   "metadata": {},
   "outputs": [],
   "source": [
    "# rename the augmented images in angry_faces\n",
    "\n",
    "l1 = len(os.listdir('split_dataset/angry_faces/'))\n",
    "\n",
    "angry_path = 'split_dataset/angry_faces/output/'\n",
    "\n",
    "# call the function to rename all the images\n",
    "\n",
    "main(angry_path,l1)"
   ]
  },
  {
   "cell_type": "code",
   "execution_count": 7,
   "metadata": {},
   "outputs": [],
   "source": [
    "# rename the augmented images in disgust_faces\n",
    "\n",
    "l2 = len(os.listdir('split_dataset/disgust_faces/'))\n",
    "\n",
    "disgust_path = 'split_dataset/disgust_faces/output/'\n",
    "\n",
    "# call the function to rename all the images\n",
    "\n",
    "main(disgust_path,l2)"
   ]
  },
  {
   "cell_type": "code",
   "execution_count": 8,
   "metadata": {},
   "outputs": [],
   "source": [
    "# rename the augmented images in fear_faces\n",
    "\n",
    "l3 = len(os.listdir('split_dataset/fear_faces/'))\n",
    "\n",
    "fear_path = 'split_dataset/fear_faces/output/'\n",
    "\n",
    "# call the function to rename all the images\n",
    "\n",
    "main(fear_path,l3)"
   ]
  },
  {
   "cell_type": "code",
   "execution_count": 9,
   "metadata": {},
   "outputs": [],
   "source": [
    "# rename the augmented images in surprise_faces\n",
    "\n",
    "l4 = len(os.listdir('split_dataset/surprise_faces/'))\n",
    "\n",
    "surprise_path = 'split_dataset/surprise_faces/output/'\n",
    "\n",
    "# call the function to rename all the images\n",
    "\n",
    "main(surprise_path,l4)"
   ]
  },
  {
   "cell_type": "code",
   "execution_count": 10,
   "metadata": {},
   "outputs": [],
   "source": [
    "# rename the augmented images in sad_faces\n",
    "\n",
    "l5 = len(os.listdir('split_dataset/sad_faces/'))\n",
    "\n",
    "sad_path = 'split_dataset/sad_faces/output/'\n",
    "\n",
    "# call the function to rename all the images\n",
    "\n",
    "main(sad_path,l5)"
   ]
  },
  {
   "cell_type": "code",
   "execution_count": 11,
   "metadata": {},
   "outputs": [],
   "source": [
    "# rename the augmented images in neutral_faces\n",
    "\n",
    "l6 = len(os.listdir('split_dataset/neutral_faces/'))\n",
    "\n",
    "neutral_path = 'split_dataset/neutral_faces/output/'\n",
    "\n",
    "# call the function to rename all the images\n",
    "\n",
    "main(neutral_path,l6)"
   ]
  },
  {
   "cell_type": "code",
   "execution_count": 12,
   "metadata": {},
   "outputs": [],
   "source": [
    "from PIL import Image "
   ]
  },
  {
   "cell_type": "markdown",
   "metadata": {},
   "source": [
    "### convert all images of different classess into numpy array"
   ]
  },
  {
   "cell_type": "code",
   "execution_count": 13,
   "metadata": {},
   "outputs": [],
   "source": [
    "#convert all angry_faces into numpy array"
   ]
  },
  {
   "cell_type": "code",
   "execution_count": 14,
   "metadata": {},
   "outputs": [],
   "source": [
    "angry_path2 = 'split_dataset/angry_faces/'\n",
    "angry_list = os.listdir(angry_path2)\n",
    "x_angry = []\n",
    "for fname in angry_list:\n",
    "    fname = angry_path2 + fname\n",
    "    x_angry.append(np.array(Image.open(fname))) \n",
    "x_angry = np.array(x_angry)"
   ]
  },
  {
   "cell_type": "code",
   "execution_count": null,
   "metadata": {},
   "outputs": [],
   "source": []
  },
  {
   "cell_type": "code",
   "execution_count": 15,
   "metadata": {},
   "outputs": [],
   "source": [
    "#for fear faces\n",
    "fear_path2 = 'split_dataset/fear_faces/'\n",
    "fear_list = os.listdir(fear_path2)\n",
    "x_fear = []\n",
    "for fname in fear_list :\n",
    "\n",
    "    fname = fear_path2 + fname\n",
    "    x_fear.append(np.array(Image.open(fname))) \n",
    "x_fear = np.array(x_fear)"
   ]
  },
  {
   "cell_type": "code",
   "execution_count": 16,
   "metadata": {},
   "outputs": [],
   "source": [
    "# for surprise faces\n",
    "surprise_path2 = 'split_dataset/surprise_faces/'\n",
    "surprise_list = os.listdir(surprise_path2)\n",
    "x_surprise = []\n",
    "for fname in surprise_list :\n",
    "\n",
    "    fname = surprise_path2 + fname\n",
    "    x_surprise.append(np.array(Image.open(fname))) \n",
    "x_surprise = np.array(x_surprise)"
   ]
  },
  {
   "cell_type": "code",
   "execution_count": 17,
   "metadata": {},
   "outputs": [],
   "source": [
    "# for happy faces\n",
    "\n",
    "happy_path2 = 'split_dataset/happy_faces/'\n",
    "happy_list = os.listdir(happy_path2)\n",
    "x_happy = []\n",
    "for fname in happy_list :\n",
    "\n",
    "    fname = happy_path2 + fname\n",
    "    x_happy.append(np.array(Image.open(fname))) \n",
    "x_happy = np.array(x_happy)"
   ]
  },
  {
   "cell_type": "code",
   "execution_count": 18,
   "metadata": {},
   "outputs": [],
   "source": [
    "# for disgust faces\n",
    "disgust_path2 = 'split_dataset/disgust_faces/'\n",
    "disgust_list = os.listdir(disgust_path2)\n",
    "x_disgust = []\n",
    "for fname in disgust_list :\n",
    "\n",
    "    fname = disgust_path2 + fname\n",
    "    x_disgust.append(np.array(Image.open(fname))) \n",
    "x_disgust = np.array(x_disgust)"
   ]
  },
  {
   "cell_type": "code",
   "execution_count": 19,
   "metadata": {},
   "outputs": [],
   "source": [
    "# for sad faces\n",
    "sad_path2 = 'split_dataset/sad_faces/'\n",
    "sad_list = os.listdir(sad_path2)\n",
    "x_sad = []\n",
    "for fname in sad_list :\n",
    "\n",
    "    fname = sad_path2 + fname\n",
    "    x_sad.append(np.array(Image.open(fname))) \n",
    "x_sad = np.array(x_sad)"
   ]
  },
  {
   "cell_type": "code",
   "execution_count": 20,
   "metadata": {},
   "outputs": [],
   "source": [
    "# for neutral faces\n",
    "neutral_path2 = 'split_dataset/neutral_faces/' \n",
    "neutral_list = os.listdir(neutral_path2)\n",
    "x_neutral = []\n",
    "for fname in neutral_list :\n",
    "\n",
    "    fname = neutral_path2 + fname\n",
    "    x_neutral.append(np.array(Image.open(fname))) \n",
    "x_neutral = np.array(x_neutral)"
   ]
  },
  {
   "cell_type": "code",
   "execution_count": 22,
   "metadata": {},
   "outputs": [
    {
     "name": "stdout",
     "output_type": "stream",
     "text": [
      "(9906, 48, 48, 4)\n",
      "(7547, 48, 48, 4)\n",
      "(10242, 48, 48, 4)\n",
      "(8989, 48, 48, 4)\n",
      "(8077, 48, 48, 4)\n",
      "(8004, 48, 48, 4)\n",
      "(8198, 48, 48, 4)\n"
     ]
    }
   ],
   "source": [
    "print(x_angry.shape)\n",
    "print(x_disgust.shape)\n",
    "print(x_fear.shape)\n",
    "print(x_happy.shape)\n",
    "print(x_sad.shape)\n",
    "print(x_surprise.shape)\n",
    "print(x_neutral.shape)"
   ]
  },
  {
   "cell_type": "code",
   "execution_count": 81,
   "metadata": {},
   "outputs": [],
   "source": [
    "data = [x_angry, x_disgust, x_fear, x_happy, x_sad, x_surprise, x_neutral]"
   ]
  },
  {
   "cell_type": "code",
   "execution_count": 93,
   "metadata": {},
   "outputs": [],
   "source": [
    "# fig, ax = plt.subplots()  \n",
    "# x = face.label.unique()  \n",
    "# y = face.label.value_counts()  \n",
    "# # Plotting the bar graph  \n",
    "# ax.bar(x, y) "
   ]
  },
  {
   "cell_type": "code",
   "execution_count": 21,
   "metadata": {},
   "outputs": [],
   "source": [
    "# save all numpy arrays into hardisk\n",
    "\n",
    "np.save('split_dataset/angry.npy', x_angry)\n",
    "np.save('split_dataset/disgust.npy',x_disgust)\n",
    "np.save('split_dataset/happy.npy',x_happy)\n",
    "\n",
    "np.save('split_dataset/sad.npy',x_sad)\n",
    "np.save('split_dataset/surprise.npy',x_surprise)\n",
    "np.save('split_dataset/neutral.npy',x_neutral)\n",
    "np.save('split_dataset/fear.npy',x_fear)"
   ]
  },
  {
   "cell_type": "code",
   "execution_count": null,
   "metadata": {},
   "outputs": [],
   "source": []
  },
  {
   "cell_type": "code",
   "execution_count": 23,
   "metadata": {},
   "outputs": [],
   "source": [
    "#load all the labels \n",
    "\n",
    "angry = np.load('split_dataset/labels/angry_label.npy')\n",
    "disgust = np.load('split_dataset/labels/disgust_label.npy')\n",
    "fear = np.load('split_dataset/labels/fear_label.npy')\n",
    "happy = np.load('split_dataset/labels/happy_label.npy')\n",
    "sad = np.load('split_dataset/labels/sad_label.npy')\n",
    "surprise = np.load('split_dataset/labels/surprise_label.npy')\n",
    "neutral = np.load('split_dataset/labels/neutral_label.npy')"
   ]
  },
  {
   "cell_type": "code",
   "execution_count": null,
   "metadata": {},
   "outputs": [],
   "source": []
  },
  {
   "cell_type": "code",
   "execution_count": 194,
   "metadata": {},
   "outputs": [
    {
     "data": {
      "text/plain": [
       "(6077,)"
      ]
     },
     "execution_count": 194,
     "metadata": {},
     "output_type": "execute_result"
    }
   ],
   "source": [
    "sad.shape"
   ]
  },
  {
   "cell_type": "markdown",
   "metadata": {},
   "source": [
    "## 0- Angry\n",
    "## 1- Disgust\n",
    "## 2- Fear\n",
    "## 3- Happy\n",
    "## 4- Sad\n",
    "## 5- Surprise\n",
    "## 6- Neutral\n"
   ]
  },
  {
   "cell_type": "code",
   "execution_count": 24,
   "metadata": {},
   "outputs": [],
   "source": [
    "# Angry\n",
    "an = []\n",
    "for a in range(len(x_angry) -  len(angry)):\n",
    "    an.append(angry[a])\n",
    "    \n",
    "an = np.array(an)\n",
    "angry = np.append(angry, an)"
   ]
  },
  {
   "cell_type": "code",
   "execution_count": 25,
   "metadata": {},
   "outputs": [],
   "source": [
    "# disgust\n",
    "ds = []\n",
    "for b in range(len(x_disgust) -  len(disgust)):\n",
    "    ds.append(disgust[0])\n",
    "    \n",
    "ds = np.array(ds)\n",
    "disgust = np.append(disgust, ds)"
   ]
  },
  {
   "cell_type": "code",
   "execution_count": 26,
   "metadata": {},
   "outputs": [
    {
     "data": {
      "text/plain": [
       "0"
      ]
     },
     "execution_count": 26,
     "metadata": {},
     "output_type": "execute_result"
    }
   ],
   "source": [
    "len(x_happy) -  len(happy)"
   ]
  },
  {
   "cell_type": "code",
   "execution_count": 27,
   "metadata": {},
   "outputs": [],
   "source": [
    "#Happy\n",
    "hp = []\n",
    "for c in range(len(x_happy) -  len(happy)):\n",
    "    hp.append(happy[0])\n",
    "    \n",
    "hp = np.array(hp)\n",
    "happy = np.append(happy, hp)"
   ]
  },
  {
   "cell_type": "code",
   "execution_count": 28,
   "metadata": {},
   "outputs": [],
   "source": [
    "# sad\n",
    "sd = []\n",
    "for d in range(len(x_sad) -  len(sad)):\n",
    "    sd.append(sad[0])\n",
    "    \n",
    "sd = np.array(sd)\n",
    "sad = np.append(sad, sd)"
   ]
  },
  {
   "cell_type": "code",
   "execution_count": 29,
   "metadata": {},
   "outputs": [],
   "source": [
    "# fear\n",
    "\n",
    "fr = []\n",
    "for e in range(len(x_fear) -  len(fear)):\n",
    "    fr.append(fear[0])\n",
    "    \n",
    "fr = np.array(fr)\n",
    "fear = np.append(fear, fr)"
   ]
  },
  {
   "cell_type": "code",
   "execution_count": 30,
   "metadata": {},
   "outputs": [],
   "source": [
    "# surprise\n",
    "\n",
    "sur = []\n",
    "for f in range(len(x_surprise) -  len(surprise)):\n",
    "    sur.append(surprise[0])\n",
    "    \n",
    "sur = np.array(sur)\n",
    "surprise = np.append(surprise, sur)"
   ]
  },
  {
   "cell_type": "code",
   "execution_count": 31,
   "metadata": {},
   "outputs": [],
   "source": [
    "# neutral\n",
    "ne = []\n",
    "for g in range(len(x_neutral) -  len(neutral)):\n",
    "    ne.append(neutral[0])\n",
    "    \n",
    "ne = np.array(ne)\n",
    "neutral = np.append(neutral, ne)"
   ]
  },
  {
   "cell_type": "code",
   "execution_count": 32,
   "metadata": {},
   "outputs": [],
   "source": [
    "# check for dimension of labels and images\n",
    "\n",
    "#ANgry faces\n",
    "assert( len(x_angry)== len(angry))\n",
    "\n",
    "# 'fear_faces'\n",
    "assert( len(x_fear)== len(fear))\n",
    "\n",
    "#disgust faces\n",
    "assert( len(x_disgust)== len(disgust))\n",
    "\n",
    "#happy faces\n",
    "assert( len(x_happy)== len(happy))\n",
    "\n",
    "#sad faces\n",
    "assert( len(x_sad)== len(sad))\n",
    "\n",
    "#surprise faces\n",
    "assert( len(x_surprise)== len(surprise))\n",
    "\n",
    "# neutral faces\n",
    "assert( len(x_neutral)== len(neutral))"
   ]
  },
  {
   "cell_type": "code",
   "execution_count": 45,
   "metadata": {},
   "outputs": [],
   "source": [
    "# create a array 'input' and a array 'labels'\n",
    "\n",
    "input_data =  np.concatenate((x_angry, x_fear, x_disgust, x_happy, x_sad, x_surprise, x_neutral), axis =0)"
   ]
  },
  {
   "cell_type": "code",
   "execution_count": 48,
   "metadata": {},
   "outputs": [],
   "source": [
    "labels = np.concatenate((angry, fear, disgust, happy, sad, surprise, neutral), axis =0)"
   ]
  },
  {
   "cell_type": "code",
   "execution_count": 49,
   "metadata": {},
   "outputs": [
    {
     "data": {
      "text/plain": [
       "(60963,)"
      ]
     },
     "execution_count": 49,
     "metadata": {},
     "output_type": "execute_result"
    }
   ],
   "source": [
    "labels.shape"
   ]
  },
  {
   "cell_type": "code",
   "execution_count": 56,
   "metadata": {},
   "outputs": [],
   "source": [
    "np.save('split_dataset/output_labels.npy', labels)\n",
    "np.save('split_dataset/input.npy', input_data)"
   ]
  },
  {
   "cell_type": "code",
   "execution_count": null,
   "metadata": {},
   "outputs": [],
   "source": []
  },
  {
   "cell_type": "code",
   "execution_count": 33,
   "metadata": {},
   "outputs": [],
   "source": [
    "# save all label as numpy array into hardisk\n",
    "\n",
    "np.save('split_dataset/angry_label.npy', angry)\n",
    "np.save('split_dataset/disgust_label.npy',disgust)\n",
    "np.save('split_dataset/happy_label.npy',happy)\n",
    "np.save('split_dataset/fear_label.npy',fear)\n",
    "np.save('split_dataset/sad_label.npy',sad)\n",
    "np.save('split_dataset/surprise_label.npy',surprise)\n",
    "np.save('split_dataset/neutral_label.npy',neutral)"
   ]
  },
  {
   "cell_type": "code",
   "execution_count": null,
   "metadata": {},
   "outputs": [],
   "source": []
  },
  {
   "cell_type": "code",
   "execution_count": 51,
   "metadata": {},
   "outputs": [],
   "source": [
    "# shuffle both pixels values and labels in same manner \n",
    "\n",
    "indices = np.arange(input_data.shape[0])\n",
    "np.random.shuffle(indices)\n",
    "\n",
    "input_data = input_data[indices]\n",
    "labels = labels[indices]"
   ]
  },
  {
   "cell_type": "code",
   "execution_count": null,
   "metadata": {},
   "outputs": [],
   "source": []
  },
  {
   "cell_type": "markdown",
   "metadata": {},
   "source": [
    "### Data Visualization for count of different labels"
   ]
  },
  {
   "cell_type": "code",
   "execution_count": 211,
   "metadata": {},
   "outputs": [],
   "source": [
    "# Data Visualization for count of different labels i.e.\n",
    "# 0- Angry\n",
    "# 1- Disgust\n",
    "# 2- Fear\n",
    "# 3- Happy\n",
    "# 4- Sad\n",
    "# 5- Surprise\n",
    "# 6- Neutral\n",
    "\n",
    "emotions = [str(0), str(1), str(2), str(3), str(4), str(5),str(6)]\n",
    "no_images = [angry.shape[0], disgust.shape[0], fear.shape[0], happy.shape[0], sad.shape[0], surprise.shape[0], neutral.shape[0]]"
   ]
  },
  {
   "cell_type": "code",
   "execution_count": 225,
   "metadata": {},
   "outputs": [],
   "source": [
    "\n",
    "def plot_bar_x():\n",
    "    # this is for plotting purpose\n",
    "    index = np.arange(len(emotions ))\n",
    "    plt.bar(index, no_images)\n",
    "    plt.xlabel('emotions', fontsize=10)\n",
    "    plt.ylabel('No of Movies', fontsize=10)\n",
    "    plt.xticks(index, emotions, fontsize=10, rotation=30)\n",
    "    plt.title('count plot of data')\n",
    "    plt.show()"
   ]
  },
  {
   "cell_type": "code",
   "execution_count": 226,
   "metadata": {},
   "outputs": [
    {
     "data": {
      "image/png": "[encoded data removed]",
      "text/plain": [
       "<Figure size 432x288 with 1 Axes>"
      ]
     },
     "metadata": {
      "needs_background": "light"
     },
     "output_type": "display_data"
    }
   ],
   "source": [
    "plot_bar_x()"
   ]
  },
  {
   "cell_type": "code",
   "execution_count": 6,
   "metadata": {},
   "outputs": [],
   "source": [
    "\n",
    "total = angry.shape[0] + disgust.shape[0] + fear.shape[0] + sad.shape[0] + surprise.shape[0] + neutral.shape[0] + happy.shape[0]"
   ]
  },
  {
   "cell_type": "code",
   "execution_count": 7,
   "metadata": {},
   "outputs": [
    {
     "name": "stdout",
     "output_type": "stream",
     "text": [
      " total no of data points are: 59963\n"
     ]
    }
   ],
   "source": [
    "print( \" total no of data points are: \" + str(total))"
   ]
  },
  {
   "cell_type": "code",
   "execution_count": null,
   "metadata": {},
   "outputs": [],
   "source": []
  }
 ],
 "metadata": {
  "kernelspec": {
   "display_name": "Python 3",
   "language": "python",
   "name": "python3"
  },
  "language_info": {
   "codemirror_mode": {
    "name": "ipython",
    "version": 3
   },
   "file_extension": ".py",
   "mimetype": "text/x-python",
   "name": "python",
   "nbconvert_exporter": "python",
   "pygments_lexer": "ipython3",
   "version": "3.6.8"
  }
 },
 "nbformat": 4,
 "nbformat_minor": 2
}
